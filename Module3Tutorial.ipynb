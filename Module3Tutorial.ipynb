{
 "cells": [
  {
   "cell_type": "code",
   "execution_count": 13,
   "id": "81688aa3-d0f2-460b-a268-14510991c668",
   "metadata": {},
   "outputs": [
    {
     "name": "stdout",
     "output_type": "stream",
     "text": [
      "0 0 0 0 1 1 1 1 2 2 2 2 "
     ]
    }
   ],
   "source": [
    "\"\"\"\n",
    "Sort 0s, 1s and 2s\n",
    "\"\"\"\n",
    "def sort012(arr):\n",
    "    c0 = 0\n",
    "    c1 = 0\n",
    "    c2 = 0\n",
    "\n",
    "    for num in arr:\n",
    "        if num == 0:\n",
    "            c0 += 1\n",
    "        elif num == 1:\n",
    "            c1 += 1\n",
    "        else:\n",
    "            c2 += 1\n",
    "\n",
    "    idx = 0\n",
    "    \n",
    "    for i in range(c0):\n",
    "        arr[idx] = 0\n",
    "        idx += 1\n",
    "    for i in range(c1):\n",
    "        arr[idx] = 1\n",
    "        idx += 1\n",
    "    for i in range(c2):\n",
    "        arr[idx] = 2\n",
    "        idx += 1\n",
    "\n",
    "if __name__ == \"__main__\":\n",
    "    arr = [0, 1, 2, 0, 1, 2, 2, 1, 0, 0, 2, 1]\n",
    "    sort012(arr)\n",
    "    \n",
    "    for x in arr:\n",
    "      print(x, end = \" \")"
   ]
  },
  {
   "cell_type": "code",
   "execution_count": 12,
   "id": "bc23b220-424c-4450-a895-9b9e58652e9c",
   "metadata": {},
   "outputs": [
    {
     "name": "stdout",
     "output_type": "stream",
     "text": [
      "Element is present at index 3\n"
     ]
    }
   ],
   "source": [
    "\"\"\"\n",
    "Binary Search\n",
    "\"\"\"\n",
    "def binary_search_first_occurrence(arr, k):\n",
    "    left, right = 0, len(arr) - 1\n",
    "    result = -1  # Default if not found\n",
    "\n",
    "    while left <= right:\n",
    "        mid = left + (right - left) // 2\n",
    "\n",
    "        if arr[mid] == k:\n",
    "            result = mid         # Found k, but keep searching left\n",
    "            right = mid - 1\n",
    "        elif arr[mid] < k:\n",
    "            left = mid + 1\n",
    "        else:\n",
    "            right = mid - 1\n",
    "\n",
    "    return result\n",
    "\n",
    "if __name__ == '__main__':\n",
    "    arr = [2, 3, 4, 10, 40, 55, 76, 89, 100]\n",
    "    x = 10\n",
    "\n",
    "    result = binary_search_first_occurrence(arr, x)\n",
    "    if result != -1:\n",
    "        print(\"Element is present at index\", result)\n",
    "    else:\n",
    "        print(\"Element is not present in array\")"
   ]
  }
 ],
 "metadata": {
  "kernelspec": {
   "display_name": "Python [conda env:base] *",
   "language": "python",
   "name": "conda-base-py"
  },
  "language_info": {
   "codemirror_mode": {
    "name": "ipython",
    "version": 3
   },
   "file_extension": ".py",
   "mimetype": "text/x-python",
   "name": "python",
   "nbconvert_exporter": "python",
   "pygments_lexer": "ipython3",
   "version": "3.13.5"
  }
 },
 "nbformat": 4,
 "nbformat_minor": 5
}
